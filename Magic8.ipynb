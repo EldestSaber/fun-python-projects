{
  "nbformat": 4,
  "nbformat_minor": 0,
  "metadata": {
    "colab": {
      "provenance": []
    },
    "kernelspec": {
      "name": "python3",
      "display_name": "Python 3"
    },
    "language_info": {
      "name": "python"
    }
  },
  "cells": [
    {
      "cell_type": "code",
      "source": [
        "import random"
      ],
      "metadata": {
        "id": "QmnGqcqd1pkv"
      },
      "execution_count": 1,
      "outputs": []
    },
    {
      "cell_type": "code",
      "execution_count": 2,
      "metadata": {
        "id": "kbHZBtCB1jPJ"
      },
      "outputs": [],
      "source": [
        "def magic_8():\n",
        "  random_number = random.randint(0,19)\n",
        "  if random_number == 0:\n",
        "    print('It is certain.')\n",
        "  elif random_number == 1:\n",
        "    print('It is decidedly so.')\n",
        "  elif random_number == 2:\n",
        "    print('Without a doubt.')\n",
        "  elif random_number == 3:\n",
        "    print('Yes definitely.')\n",
        "  elif random_number == 4:\n",
        "    print('You may rely on it.')\n",
        "  elif random_number == 5:\n",
        "    print('As I see it, yes.')\n",
        "  elif random_number == 6:\n",
        "    print('Most likely.')\n",
        "  elif random_number == 7:\n",
        "    print('Outlook good.')\n",
        "  elif random_number == 8:\n",
        "    print('Yes.')\n",
        "  elif random_number == 9:\n",
        "    print('Signs point to yes.')\n",
        "  elif random_number == 10:\n",
        "    print('Reply hazy, try again.')\n",
        "  elif random_number == 11:\n",
        "    print('Ask again later.')\n",
        "  elif random_number == 12:\n",
        "    print('Better not tell you now.')\n",
        "  elif random_number == 13:\n",
        "    print('Cannot predict now.')\n",
        "  elif random_number == 14:\n",
        "    print('Concentrate and ask again.')\n",
        "  elif random_number == 15:\n",
        "    print(\"Don't count on it.\")\n",
        "  elif random_number == 16:\n",
        "    print('My reply is no.')\n",
        "  elif random_number == 17:\n",
        "    print('My sources say no.')\n",
        "  elif random_number == 18:\n",
        "    print('Outlook not so good.')\n",
        "  else: \n",
        "    print('Very doubtful.')\n",
        "\n"
      ]
    },
    {
      "cell_type": "code",
      "source": [
        "magic_8()"
      ],
      "metadata": {
        "colab": {
          "base_uri": "https://localhost:8080/"
        },
        "id": "q0p1xYGE1xjq",
        "outputId": "9b1c5970-b4fd-47b6-ac48-b9e4bb4a13e6"
      },
      "execution_count": 3,
      "outputs": [
        {
          "output_type": "stream",
          "name": "stdout",
          "text": [
            "Ask again later.\n"
          ]
        }
      ]
    },
    {
      "cell_type": "code",
      "source": [],
      "metadata": {
        "id": "T7Sj18p31wfL"
      },
      "execution_count": null,
      "outputs": []
    }
  ]
}