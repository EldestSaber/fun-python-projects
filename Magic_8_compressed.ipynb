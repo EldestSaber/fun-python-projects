{
  "nbformat": 4,
  "nbformat_minor": 0,
  "metadata": {
    "colab": {
      "provenance": []
    },
    "kernelspec": {
      "name": "python3",
      "display_name": "Python 3"
    },
    "language_info": {
      "name": "python"
    }
  },
  "cells": [
    {
      "cell_type": "code",
      "source": [
        "# import random package\n",
        "import random"
      ],
      "metadata": {
        "id": "QmnGqcqd1pkv"
      },
      "execution_count": null,
      "outputs": []
    },
    {
      "cell_type": "code",
      "source": [
        "# Define magic 8 ball results in a list\n",
        "magic_8_list = ['It is certain.', 'It is decidedly so.', 'Without a doubt.', 'Yes definitely.', 'You may rely on it.', 'As I see it, yes.', 'Most likely.', 'Outlook good.', 'Yes.',\n",
        "                'Signs point to yes.', 'Reply hazy, try again.', 'Ask again later.', 'Better not tell you now.', 'Cannot predict now.', 'Concentrate and ask again.',\n",
        "                \"Don't count on it.\", 'My reply is no.', 'My sources say no.', 'Outlook not so good.', 'Very doubtful.']"
      ],
      "metadata": {
        "id": "jcrinK9J__js"
      },
      "execution_count": 4,
      "outputs": []
    },
    {
      "cell_type": "code",
      "execution_count": 17,
      "metadata": {
        "id": "kbHZBtCB1jPJ"
      },
      "outputs": [],
      "source": [
        "# define Magic 8 ball program\n",
        "def magic_8(magic_8_result):\n",
        "  length_of_the_list = len(magic_8_list)-1\n",
        "  random_number = random.randint(0,length_of_the_list)\n",
        "  print(magic_8_result[random_number])"
      ]
    },
    {
      "cell_type": "code",
      "source": [
        "# Run magic 8 ball\n",
        "magic_8(magic_8_list)"
      ],
      "metadata": {
        "colab": {
          "base_uri": "https://localhost:8080/"
        },
        "id": "q0p1xYGE1xjq",
        "outputId": "471d0ac6-c64c-4923-c303-6f4cb074e16f"
      },
      "execution_count": 21,
      "outputs": [
        {
          "output_type": "stream",
          "name": "stdout",
          "text": [
            "Yes definitely.\n"
          ]
        }
      ]
    }
  ]
}