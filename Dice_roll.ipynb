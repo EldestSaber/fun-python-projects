{
  "nbformat": 4,
  "nbformat_minor": 0,
  "metadata": {
    "colab": {
      "provenance": []
    },
    "kernelspec": {
      "name": "python3",
      "display_name": "Python 3"
    },
    "language_info": {
      "name": "python"
    }
  },
  "cells": [
    {
      "cell_type": "code",
      "execution_count": 1,
      "metadata": {
        "id": "hCHF8G-03AC_"
      },
      "outputs": [],
      "source": [
        "# import random package\n",
        "import random"
      ]
    },
    {
      "cell_type": "code",
      "source": [
        "# define dice_roll program\n",
        "def dice_roll():\n",
        "  random_number = random.randint(1,6)\n",
        "  if random_number == 1:\n",
        "    print('The die reads 1')\n",
        "  elif random_number == 2:\n",
        "    print('The die reads 2')\n",
        "  elif random_number == 3:\n",
        "    print('The die reads 3')\n",
        "  elif random_number == 4:\n",
        "    print('The die reads 4')\n",
        "  elif random_number == 5:\n",
        "    print('The die reads 5')\n",
        "  else:\n",
        "    print('The die reads 6')"
      ],
      "metadata": {
        "id": "BDuXbu6I31iI"
      },
      "execution_count": 2,
      "outputs": []
    },
    {
      "cell_type": "code",
      "source": [
        "# run dice_roll\n",
        "dice_roll()"
      ],
      "metadata": {
        "colab": {
          "base_uri": "https://localhost:8080/"
        },
        "id": "1LoRkHsG36EN",
        "outputId": "81617bdb-cf79-4bf5-bc2b-b69a0713fb1a"
      },
      "execution_count": 3,
      "outputs": [
        {
          "output_type": "stream",
          "name": "stdout",
          "text": [
            "The die reads 3\n"
          ]
        }
      ]
    }
  ]
}